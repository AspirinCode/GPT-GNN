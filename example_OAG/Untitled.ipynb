{
 "cells": [
  {
   "cell_type": "code",
   "execution_count": 2,
   "metadata": {},
   "outputs": [],
   "source": [
    "import sys\n",
    "from model import *\n",
    "import dill\n",
    "class RenameUnpickler(dill.Unpickler):\n",
    "    def find_class(self, module, name):\n",
    "        renamed_module = module\n",
    "        if module == \"model\":\n",
    "            renamed_module = \"GPT_GNN.model\"\n",
    "\n",
    "        return super(RenameUnpickler, self).find_class(renamed_module, name)\n",
    "\n",
    "\n",
    "def renamed_load(file_obj):\n",
    "    return RenameUnpickler(file_obj).load()\n",
    "\n",
    "\n",
    "def renamed_loads(pickled_bytes):\n",
    "    file_obj = io.BytesIO(pickled_bytes)\n",
    "    return renamed_load(file_obj)"
   ]
  },
  {
   "cell_type": "code",
   "execution_count": 20,
   "metadata": {},
   "outputs": [],
   "source": [
    "s = torch.load('/datadrive/models/gpt_all_cs2_norm')"
   ]
  },
  {
   "cell_type": "code",
   "execution_count": 6,
   "metadata": {},
   "outputs": [],
   "source": [
    "from GPT_GNN.data import *\n",
    "from GPT_GNN.model import *"
   ]
  },
  {
   "cell_type": "code",
   "execution_count": 22,
   "metadata": {},
   "outputs": [
    {
     "data": {
      "text/plain": [
       "GPT_GNN(\n",
       "  (gnn): GNN(\n",
       "    (gcs): ModuleList(\n",
       "      (0): GeneralConv(\n",
       "        (base_conv): HGTConv(in_dim=400, out_dim=400, num_types=5, num_types=33)\n",
       "      )\n",
       "      (1): GeneralConv(\n",
       "        (base_conv): HGTConv(in_dim=400, out_dim=400, num_types=5, num_types=33)\n",
       "      )\n",
       "      (2): GeneralConv(\n",
       "        (base_conv): HGTConv(in_dim=400, out_dim=400, num_types=5, num_types=33)\n",
       "      )\n",
       "    )\n",
       "    (adapt_ws): ModuleList(\n",
       "      (0): Linear(in_features=1169, out_features=400, bias=True)\n",
       "      (1): Linear(in_features=1169, out_features=400, bias=True)\n",
       "      (2): Linear(in_features=1169, out_features=400, bias=True)\n",
       "      (3): Linear(in_features=1169, out_features=400, bias=True)\n",
       "      (4): Linear(in_features=1169, out_features=400, bias=True)\n",
       "    )\n",
       "    (drop): Dropout(p=0.2, inplace=False)\n",
       "  )\n",
       "  (params): ModuleList(\n",
       "    (0): Matcher(n_hid=400)\n",
       "    (1): Matcher(n_hid=400)\n",
       "    (2): Matcher(n_hid=400)\n",
       "    (3): Matcher(n_hid=400)\n",
       "    (4): Matcher(n_hid=400)\n",
       "    (5): Matcher(n_hid=400)\n",
       "    (6): Matcher(n_hid=400)\n",
       "    (7): Matcher(n_hid=400)\n",
       "    (8): Matcher(n_hid=400)\n",
       "    (9): Matcher(n_hid=400)\n",
       "  )\n",
       "  (attr_decoder): RNNModel(\n",
       "    (drop): Dropout(p=0.2, inplace=False)\n",
       "    (rnn): LSTM(100, 100, num_layers=2)\n",
       "    (encoder): Embedding(36141, 100)\n",
       "    (decoder): Linear(in_features=100, out_features=36141, bias=True)\n",
       "    (adp): Linear(in_features=500, out_features=100, bias=True)\n",
       "  )\n",
       "  (ce): CrossEntropyLoss()\n",
       ")"
      ]
     },
     "execution_count": 22,
     "metadata": {},
     "output_type": "execute_result"
    }
   ],
   "source": [
    "s"
   ]
  }
 ],
 "metadata": {
  "kernelspec": {
   "display_name": "Python 3",
   "language": "python",
   "name": "python3"
  },
  "language_info": {
   "codemirror_mode": {
    "name": "ipython",
    "version": 3
   },
   "file_extension": ".py",
   "mimetype": "text/x-python",
   "name": "python",
   "nbconvert_exporter": "python",
   "pygments_lexer": "ipython3",
   "version": "3.7.6"
  }
 },
 "nbformat": 4,
 "nbformat_minor": 4
}
