{
 "cells": [
  {
   "cell_type": "code",
   "execution_count": 1,
   "metadata": {},
   "outputs": [],
   "source": [
    "from GPT_GNN.data import *"
   ]
  },
  {
   "cell_type": "code",
   "execution_count": 6,
   "metadata": {},
   "outputs": [],
   "source": [
    "class RenameUnpickler(dill.Unpickler):\n",
    "    def find_class(self, module, name):\n",
    "        renamed_module = module\n",
    "        if module == \"data\":\n",
    "            renamed_module = \"GPT_GNN.data\"\n",
    "\n",
    "        return super(RenameUnpickler, self).find_class(renamed_module, name)\n",
    "\n",
    "\n",
    "def renamed_load(file_obj):\n",
    "    return RenameUnpickler(file_obj).load()\n",
    "\n",
    "\n",
    "def renamed_loads(pickled_bytes):\n",
    "    file_obj = io.BytesIO(pickled_bytes)\n",
    "    return renamed_load(file_obj)"
   ]
  },
  {
   "cell_type": "code",
   "execution_count": null,
   "metadata": {},
   "outputs": [
    {
     "name": "stdout",
     "output_type": "stream",
     "text": [
      "CPU times: user 42.5 s, sys: 16.5 s, total: 59.1 s\n",
      "Wall time: 59 s\n",
      "CPU times: user 16min 46s, sys: 1min 6s, total: 17min 53s\n",
      "Wall time: 17min 58s\n"
     ]
    }
   ],
   "source": [
    "%time graph = renamed_load(open('/datadrive/dataset/graph_CS.pk', 'rb'))\n",
    "%time dill.dump(graph, open('/datadrive/dataset/graph_CS.pk', 'wb'))\n",
    "\n",
    "%time graph = renamed_load(open('/datadrive/dataset/graph_Med.pk', 'rb'))\n",
    "%time dill.dump(graph, open('/datadrive/dataset/graph_Med.pk', 'wb'))"
   ]
  }
 ],
 "metadata": {
  "kernelspec": {
   "display_name": "Python 3",
   "language": "python",
   "name": "python3"
  },
  "language_info": {
   "codemirror_mode": {
    "name": "ipython",
    "version": 3
   },
   "file_extension": ".py",
   "mimetype": "text/x-python",
   "name": "python",
   "nbconvert_exporter": "python",
   "pygments_lexer": "ipython3",
   "version": "3.7.6"
  }
 },
 "nbformat": 4,
 "nbformat_minor": 4
}
